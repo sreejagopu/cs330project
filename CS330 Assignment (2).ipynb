{
 "cells": [
  {
   "cell_type": "code",
   "execution_count": null,
   "id": "dc26ffab",
   "metadata": {},
   "outputs": [],
   "source": [
    "import random\n",
    "\n",
    "access_code = input(\"Enter 5 digit Access Code: \")\n",
    "unlock_code = access_code + \"1\"\n",
    "lock_code = access_code + \"4\"\n",
    "        \n",
    "\n",
    "user = input(\"Enter 6 digit code: \")\n",
    "if unlock_code in user:\n",
    "    print(\"Unlocking\")\n",
    "elif lock_code in user:\n",
    "    print(\"Locking\")\n",
    "else:\n",
    "    print(\"Invalid, try again!\")\n",
    "        \n",
    "\n",
    "        \n"
   ]
  },
  {
   "cell_type": "code",
   "execution_count": null,
   "id": "22df51d0",
   "metadata": {},
   "outputs": [],
   "source": [
    "\n",
    "import random\n",
    "\n",
    "def break_lock():\n",
    "    numOfDigits = 0\n",
    "    while True:\n",
    "        numOfDigits += 1\n",
    "        user = str(random.randint(0,9)) #randomizing\n",
    "        if unlock_code in user:\n",
    "            return numOfDigits\n",
    "final = []\n",
    "for i in range(10):\n",
    "    final.append(breaking_lock())\n",
    "    \n",
    "    avg = sum(final)/len(final)\n",
    "    mini = min(final)\n",
    "    maxi = max(final)\n",
    "    \n",
    "print(\"Average is \", avg)\n",
    "print(\"Minimum is \", mini)\n",
    "print(\"Maximum is \", maxi)    \n",
    "            \n",
    "    "
   ]
  },
  {
   "cell_type": "code",
   "execution_count": null,
   "id": "b689ebb4",
   "metadata": {},
   "outputs": [],
   "source": [
    "    "
   ]
  },
  {
   "cell_type": "code",
   "execution_count": null,
   "id": "2d4df197",
   "metadata": {},
   "outputs": [],
   "source": []
  }
 ],
 "metadata": {
  "kernelspec": {
   "display_name": "Python 3 (ipykernel)",
   "language": "python",
   "name": "python3"
  },
  "language_info": {
   "codemirror_mode": {
    "name": "ipython",
    "version": 3
   },
   "file_extension": ".py",
   "mimetype": "text/x-python",
   "name": "python",
   "nbconvert_exporter": "python",
   "pygments_lexer": "ipython3",
   "version": "3.9.12"
  }
 },
 "nbformat": 4,
 "nbformat_minor": 5
}
